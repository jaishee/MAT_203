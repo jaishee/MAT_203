{
 "cells": [
  {
   "cell_type": "markdown",
   "metadata": {},
   "source": [
    "# Assignment Question 2"
   ]
  },
  {
   "cell_type": "markdown",
   "metadata": {},
   "source": [
    "Write a function called add_excitement that takes a list of strings and adds an exclamation point ( ! ) to the end of each string in the list. The program should modify the original list and not return anything."
   ]
  },
  {
   "cell_type": "code",
   "execution_count": 1,
   "metadata": {
    "scrolled": true
   },
   "outputs": [
    {
     "name": "stdout",
     "output_type": "stream",
     "text": [
      "Type in 8 phrases to be shouted at you\n",
      "0 phrase is\n",
      "I don't like my mind right now\n",
      "1 phrase is\n",
      "Stacking up problems that are so unnecessary\n",
      "2 phrase is\n",
      "Wish that I could slow things down\n",
      "3 phrase is\n",
      "I wanna let go but there's comfort in the panic\n",
      "4 phrase is\n",
      "And I drive myself crazy\n",
      "5 phrase is\n",
      "Thinking everything's about me\n",
      "6 phrase is\n",
      "Yeah, I drive myself crazy\n",
      "7 phrase is\n",
      "Cause I can’t escape the gravity\n",
      "I don't like my mind right now!\n",
      "Stacking up problems that are so unnecessary!\n",
      "Wish that I could slow things down!\n",
      "I wanna let go but there's comfort in the panic!\n",
      "And I drive myself crazy!\n",
      "Thinking everything's about me!\n",
      "Yeah, I drive myself crazy!\n",
      "Cause I can�t escape the gravity!\n"
     ]
    }
   ],
   "source": [
    "shout=['a','b','c','d','e','f','g','h']\n",
    "ext='!'\n",
    "def main():\n",
    "    print 'Type in 8 phrases to be shouted at you'\n",
    "    for i in range(8):\n",
    "        print i,'phrase is'\n",
    "        shout[i]=raw_input('')\n",
    "        \n",
    "    add_excitement()\n",
    "    \n",
    "def add_excitement():\n",
    "    for i in range(8):\n",
    "        print shout[i]+ext\n",
    "        \n",
    "main()        "
   ]
  },
  {
   "cell_type": "code",
   "execution_count": null,
   "metadata": {},
   "outputs": [],
   "source": []
  },
  {
   "cell_type": "markdown",
   "metadata": {},
   "source": [
    "loop is used to store a string at a time in a list then the required function is called to add excitement by conbining two strings. "
   ]
  }
 ],
 "metadata": {
  "kernelspec": {
   "display_name": "Python 2",
   "language": "python",
   "name": "python2"
  },
  "language_info": {
   "codemirror_mode": {
    "name": "ipython",
    "version": 2
   },
   "file_extension": ".py",
   "mimetype": "text/x-python",
   "name": "python",
   "nbconvert_exporter": "python",
   "pygments_lexer": "ipython2",
   "version": "2.7.15"
  }
 },
 "nbformat": 4,
 "nbformat_minor": 2
}
